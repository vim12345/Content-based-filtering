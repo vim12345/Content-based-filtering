{
  "nbformat": 4,
  "nbformat_minor": 0,
  "metadata": {
    "colab": {
      "provenance": []
    },
    "kernelspec": {
      "name": "python3",
      "display_name": "Python 3"
    },
    "language_info": {
      "name": "python"
    }
  },
  "cells": [
    {
      "cell_type": "code",
      "execution_count": 1,
      "metadata": {
        "id": "zl3OM7dGm5_8"
      },
      "outputs": [],
      "source": [
        "import numpy as np\n",
        "import pandas as pd\n",
        "from sklearn.feature_extraction.text import TfidfVectorizer\n",
        "from sklearn.metrics.pairwise import cosine_similarity"
      ]
    },
    {
      "cell_type": "code",
      "source": [
        "# 1. Simulate item features (movie descriptions)\n",
        "items = ['Movie1', 'Movie2', 'Movie3', 'Movie4', 'Movie5']\n",
        "descriptions = [\n",
        "    \"Action movie with thrilling sequences\",\n",
        "    \"Romantic comedy with funny moments\",\n",
        "    \"Action-packed superhero movie\",\n",
        "    \"Drama about love and loss\",\n",
        "    \"A romantic comedy with unexpected twists\"\n",
        "]\n",
        "df = pd.DataFrame({'Item': items, 'Description': descriptions})\n",
        ""
      ],
      "metadata": {
        "id": "9AeY-nvtnAo9"
      },
      "execution_count": 2,
      "outputs": []
    },
    {
      "cell_type": "code",
      "source": [
        "# 2. TF-IDF vectorization of item descriptions\n",
        "vectorizer = TfidfVectorizer(stop_words='english')\n",
        "tfidf_matrix = vectorizer.fit_transform(df['Description'])\n"
      ],
      "metadata": {
        "id": "uoehqfA9nAsE"
      },
      "execution_count": 3,
      "outputs": []
    },
    {
      "cell_type": "code",
      "source": [
        "# 3. Compute cosine similarity between items\n",
        "cosine_sim = cosine_similarity(tfidf_matrix, tfidf_matrix)\n",
        ""
      ],
      "metadata": {
        "id": "BZZyuT3vnAvP"
      },
      "execution_count": 4,
      "outputs": []
    },
    {
      "cell_type": "code",
      "source": [
        "\n",
        "# 4. Recommend items for a given item (e.g., Movie1)\n",
        "item_idx = 0  # Movie1\n",
        "similarities = cosine_sim[item_idx]\n",
        "recommendations = list(enumerate(similarities))\n",
        "\n",
        "# Sort recommendations based on similarity score\n",
        "recommendations = sorted(recommendations, key=lambda x: x[1], reverse=True)"
      ],
      "metadata": {
        "id": "r010Ci5PnAyG"
      },
      "execution_count": 5,
      "outputs": []
    },
    {
      "cell_type": "code",
      "source": [
        "# 5. Print recommended items for Movie1\n",
        "print(\"Recommendations for Movie1:\")\n",
        "for idx, score in recommendations[1:]:\n",
        "    print(f\"{df['Item'][idx]}: {score:.2f}\")"
      ],
      "metadata": {
        "colab": {
          "base_uri": "https://localhost:8080/"
        },
        "id": "nqQbny6mnA1N",
        "outputId": "f0827830-0472-4f10-f5f2-8d755a639592"
      },
      "execution_count": 6,
      "outputs": [
        {
          "output_type": "stream",
          "name": "stdout",
          "text": [
            "Recommendations for Movie1:\n",
            "Movie3: 0.39\n",
            "Movie2: 0.00\n",
            "Movie4: 0.00\n",
            "Movie5: 0.00\n"
          ]
        }
      ]
    },
    {
      "cell_type": "code",
      "source": [],
      "metadata": {
        "id": "WQa9hMjHnlfI"
      },
      "execution_count": null,
      "outputs": []
    }
  ]
}